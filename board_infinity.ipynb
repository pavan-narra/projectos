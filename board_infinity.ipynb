{
  "nbformat": 4,
  "nbformat_minor": 0,
  "metadata": {
    "colab": {
      "name": "board_infinity.ipynb",
      "provenance": [],
      "authorship_tag": "ABX9TyMvhnzJ2ZU4qJjbuyn6zUPM",
      "include_colab_link": true
    },
    "kernelspec": {
      "name": "python3",
      "display_name": "Python 3"
    },
    "language_info": {
      "name": "python"
    }
  },
  "cells": [
    {
      "cell_type": "markdown",
      "metadata": {
        "id": "view-in-github",
        "colab_type": "text"
      },
      "source": [
        "<a href=\"https://colab.research.google.com/github/pavan-narra/projectos/blob/master/board_infinity.ipynb\" target=\"_parent\"><img src=\"https://colab.research.google.com/assets/colab-badge.svg\" alt=\"Open In Colab\"/></a>"
      ]
    },
    {
      "cell_type": "code",
      "metadata": {
        "colab": {
          "base_uri": "https://localhost:8080/"
        },
        "id": "NdZKd91eRpDc",
        "outputId": "17ce4b08-7147-4a15-9426-77d7229e6242"
      },
      "source": [
        "pip install Wikipedia"
      ],
      "execution_count": 1,
      "outputs": [
        {
          "output_type": "stream",
          "text": [
            "Collecting Wikipedia\n",
            "  Downloading https://files.pythonhosted.org/packages/67/35/25e68fbc99e672127cc6fbb14b8ec1ba3dfef035bf1e4c90f78f24a80b7d/wikipedia-1.4.0.tar.gz\n",
            "Requirement already satisfied: beautifulsoup4 in /usr/local/lib/python3.7/dist-packages (from Wikipedia) (4.6.3)\n",
            "Requirement already satisfied: requests<3.0.0,>=2.0.0 in /usr/local/lib/python3.7/dist-packages (from Wikipedia) (2.23.0)\n",
            "Requirement already satisfied: idna<3,>=2.5 in /usr/local/lib/python3.7/dist-packages (from requests<3.0.0,>=2.0.0->Wikipedia) (2.10)\n",
            "Requirement already satisfied: urllib3!=1.25.0,!=1.25.1,<1.26,>=1.21.1 in /usr/local/lib/python3.7/dist-packages (from requests<3.0.0,>=2.0.0->Wikipedia) (1.24.3)\n",
            "Requirement already satisfied: chardet<4,>=3.0.2 in /usr/local/lib/python3.7/dist-packages (from requests<3.0.0,>=2.0.0->Wikipedia) (3.0.4)\n",
            "Requirement already satisfied: certifi>=2017.4.17 in /usr/local/lib/python3.7/dist-packages (from requests<3.0.0,>=2.0.0->Wikipedia) (2020.12.5)\n",
            "Building wheels for collected packages: Wikipedia\n",
            "  Building wheel for Wikipedia (setup.py) ... \u001b[?25l\u001b[?25hdone\n",
            "  Created wheel for Wikipedia: filename=wikipedia-1.4.0-cp37-none-any.whl size=11686 sha256=fcfc1cae9a22a54afa364a8de0f46bdf740cdff71bfa482496347be0ebe9bdd4\n",
            "  Stored in directory: /root/.cache/pip/wheels/87/2a/18/4e471fd96d12114d16fe4a446d00c3b38fb9efcb744bd31f4a\n",
            "Successfully built Wikipedia\n",
            "Installing collected packages: Wikipedia\n",
            "Successfully installed Wikipedia-1.4.0\n"
          ],
          "name": "stdout"
        }
      ]
    },
    {
      "cell_type": "code",
      "metadata": {
        "colab": {
          "base_uri": "https://localhost:8080/"
        },
        "id": "tH8e1DxIR1V3",
        "outputId": "d478b9ae-c78b-4600-f616-1d5fa034708a"
      },
      "source": [
        "pip install Wikipedia-API"
      ],
      "execution_count": 2,
      "outputs": [
        {
          "output_type": "stream",
          "text": [
            "Collecting Wikipedia-API\n",
            "  Downloading https://files.pythonhosted.org/packages/ef/3d/289963bbf51f8d00cdf7483cdc2baee25ba877e8b4eb72157c47211e3b57/Wikipedia-API-0.5.4.tar.gz\n",
            "Requirement already satisfied: requests in /usr/local/lib/python3.7/dist-packages (from Wikipedia-API) (2.23.0)\n",
            "Requirement already satisfied: certifi>=2017.4.17 in /usr/local/lib/python3.7/dist-packages (from requests->Wikipedia-API) (2020.12.5)\n",
            "Requirement already satisfied: idna<3,>=2.5 in /usr/local/lib/python3.7/dist-packages (from requests->Wikipedia-API) (2.10)\n",
            "Requirement already satisfied: chardet<4,>=3.0.2 in /usr/local/lib/python3.7/dist-packages (from requests->Wikipedia-API) (3.0.4)\n",
            "Requirement already satisfied: urllib3!=1.25.0,!=1.25.1,<1.26,>=1.21.1 in /usr/local/lib/python3.7/dist-packages (from requests->Wikipedia-API) (1.24.3)\n",
            "Building wheels for collected packages: Wikipedia-API\n",
            "  Building wheel for Wikipedia-API (setup.py) ... \u001b[?25l\u001b[?25hdone\n",
            "  Created wheel for Wikipedia-API: filename=Wikipedia_API-0.5.4-cp37-none-any.whl size=13462 sha256=13b6d646a7c76bd64b447b1848d05008379203e31398add1d84095efeab425bf\n",
            "  Stored in directory: /root/.cache/pip/wheels/bf/40/42/ba1d497f3712281b659dd65b566fc868035c859239571a725a\n",
            "Successfully built Wikipedia-API\n",
            "Installing collected packages: Wikipedia-API\n",
            "Successfully installed Wikipedia-API-0.5.4\n"
          ],
          "name": "stdout"
        }
      ]
    },
    {
      "cell_type": "code",
      "metadata": {
        "id": "ukAZlB5pR6Im"
      },
      "source": [
        "import wikipedia"
      ],
      "execution_count": 3,
      "outputs": []
    },
    {
      "cell_type": "code",
      "metadata": {
        "id": "UVstqUANR8pQ"
      },
      "source": [
        "import wikipediaapi"
      ],
      "execution_count": 6,
      "outputs": []
    },
    {
      "cell_type": "code",
      "metadata": {
        "id": "n3fOZdAbR-5u"
      },
      "source": [
        "wiki_text = wikipediaapi.Wikipedia(\n",
        "    language=\"en\",\n",
        "    extract_format=wikipediaapi.ExtractFormat.WIKI\n",
        ")"
      ],
      "execution_count": 7,
      "outputs": []
    },
    {
      "cell_type": "code",
      "metadata": {
        "colab": {
          "base_uri": "https://localhost:8080/"
        },
        "id": "GdonNqiQSE1c",
        "outputId": "fd7e7a07-710b-4bdf-f005-3419b97c59ab"
      },
      "source": [
        "wikipedia.search(\"indian rivers\")"
      ],
      "execution_count": 8,
      "outputs": [
        {
          "output_type": "execute_result",
          "data": {
            "text/plain": [
              "['List of rivers of India',\n",
              " 'List of Indian cities on rivers',\n",
              " 'Indian River',\n",
              " 'Indian rivers interlinking project',\n",
              " 'List of rivers of India by discharge',\n",
              " 'List of major rivers of India',\n",
              " 'Indian River (Florida)',\n",
              " 'Indo-Gangetic Plain',\n",
              " 'Gila River Indian Community',\n",
              " 'Indian River Lagoon']"
            ]
          },
          "metadata": {
            "tags": []
          },
          "execution_count": 8
        }
      ]
    },
    {
      "cell_type": "code",
      "metadata": {
        "colab": {
          "base_uri": "https://localhost:8080/"
        },
        "id": "n6Sfji2uSSJb",
        "outputId": "cda9b27e-79ee-4dc7-9e95-472b3e76a6c6"
      },
      "source": [
        "text1=(wiki_text.page('Indo-Gangetic Plain').text)\n",
        "print(text1)"
      ],
      "execution_count": 9,
      "outputs": [
        {
          "output_type": "stream",
          "text": [
            "The Indo-Gangetic Plain, also known as the Indus-Ganga Plain and the North Indian River Plain, is a 2.5-million km2 (630-million-acre) fertile plain encompassing northern regions of the Indian subcontinent, including most of northern and eastern India, the eastern parts of Pakistan, virtually all of Bangladesh and southern plains of Nepal. The region is named after the Indus and the Ganges rivers and encompasses a number of large urban areas. The plain is bound on the north by the Himalayas, which feed its numerous rivers and are the source of the fertile alluvium deposited across the region by the two river systems. The southern edge of the plain is marked by the Chota Nagpur Plateau. On the west rises the Iranian Plateau.\n",
            "\n",
            "History\n",
            "The region is known for the Indus Valley Civilization, which was responsible for the birth of ancient culture of the Indian subcontinent. The flat and fertile terrain has facilitated the repeated rise and expansion of various empires, including the Maurya Empire, Kushan Empire, Gupta Empire, Pala Empire, Imperial Kannauj, Delhi Sultanates, the Mughal Empire and Maratha Empire – all of which had their demographic and political centers in the Indo-Gangetic plain. During the Vedic and Epic eras of Indian history, this region was referred to as \"Aryavarta\" (Land of the Aryans). According to Manusmṛti (2.22), 'Aryavarta' is \"the tract between the Himalaya and the Vindhya ranges, from the Eastern Sea (Bay of Bengal) to the Western Sea (Arabian Sea)\". The region is also referred to as \"Hindustan\" or the Land of the Hindus, as mentioned in the Sanskrit shloka in Vishnu Purana:\n",
            "हिमालयं समारभ्य यावत् इंदु सरोवरम्\n",
            "तं देवनिर्मितं देशं हिंदुस्थानं प्रचक्षते\n",
            "\"Starting from Himalayas and extending upto Indian Ocean,\n",
            "this nation created by God is known as Hindusthanam\".\n",
            "The suffix -stan , in the term Hindustan is variation of the Sanskrit word Sthanam which means \"land\".\n",
            "The term was later used to refer to the whole of the Indian subcontinent. The term \"Hindustani\" is also used to refer to the people, music, and culture of the region.In 12th Century Much of Indo-Gangetic Plain were ruled by the Rajputs. Most Prominent of them were Chauhans of Ajmer along with Gahadavals Or Rathores of Varanasi and many petty Rajput kingdoms. Rajput as a separate caste also emerge in Indian social structure around Ghurid Invasions of India.In 1191 Rajput king of Ajmer and Delhi Prithviraj Chauhan unified several Rajput states and decisively defeat invading army of Shihabuddin Ghori near Tarroari in First Battle of Tarain,However Rajputs didn't chase Ghurids and let Ghurid king escape.As a Result,Shihabuddin return with a Grand army of an estimated strength of 120,000 Afghans,Turks and other Muslim allies on contray Rajputs army was far weaker than last battle due to enmity within Rajputs. Shihabuddin decisevely defeat the Rajput Confederacy of Prithviraj on same battlefield in Second Battle of Tarain. Prithviraj fled the battleground but was captured shortly from battle site and executed. Malesi a Kachwaha Rajput of Jaipur lead last stand for Rajputs against Ghurids after Prithviraj escape.The defeat of Rajputs marks a watershed moment in Medieval India's History as it not only shatter Rajput powers in Indo-Gangetic Plain but also firmly establish Muslim Presence.Following the Battle Delhi Sultanate became prominent in the region and collapse of organised Rajput resistance in northern India led to Muslim control of the region within a generation.\n",
            "\n",
            "Geography\n",
            "The Indo-Gangetic Plain is divided into two drainage basins by the Delhi Ridge; the western part drains to the Indus, and the eastern part consists of the Ganga–Brahmaputra drainage systems. This divide is only 350 metres above sea level, causing the perception that the Indo-Gangetic Plain appears to be continuous from Sindh in the west to Bengal and Assam in the east. \n",
            "A thin strip between the foothills of the Himalayas and the plain, the Bhabar is a region of porous ground consisting of boulders and pebbles that have washed down from the mountains. It is not suitable for crops and is forested. The streams disappear underground here.Below the Bhabar lie the grasslands of Terai and Dooars.The many tributaries of the Indus and Ganges divide the plain into doabs, tongues of land that extend to where the tributaries meet. Close to the rivers is khadar land of new alluvium that is subject to flooding. Above the flood limit, bangar land is older alluvium deposited in the middle Pleistocene.The annual rainfall increases from west towards the east. The Lower Ganges Plains and the Assam Valley are more verdant than the middle Ganga plain. The lower Ganga is centered in West Bengal, from which it flows into Bangladesh. After joining the Jamuna, a distributary of Brahmaputra, both rivers form the Ganges Delta. The Brahmaputra rises in Tibet as the Yarlung Zangbo River and flows through Arunachal Pradesh and Assam, before crossing into Bangladesh.\n",
            "Some geographers subdivide the Indo-Gangetic Plain into several parts: the Gujarat, Sindh, Punjab, Doab, Rohilkhand, Awadh, Bihar, Bengal and Assam regions.\n",
            "Roughly, the Indo-Gangetic Plain stretches across:\n",
            "\n",
            "the Jammu Plains in the north;\n",
            "the Punjab Plains in eastern Pakistan and northwestern India;\n",
            "the Sindh Plains in southern Pakistan;\n",
            "the Indus Delta in southern Pakistan and western India;\n",
            "the Ganga-Yamuna Doab;\n",
            "the Rohilkhand (Katehr) Plains;\n",
            "the Awadh Plains;\n",
            "the Purvanchal Plains;\n",
            "the Bihar Plains;\n",
            "the North Bengal plains;\n",
            "the Ganges Delta in India and Bangladesh;\n",
            "and the Brahmaputra Valley in the east.The fertile Terai region is spread across Southern Nepal and Northern India along the foothills of the Himalayas. The rivers encompassed are the Beas, the Chambal, the Chenab, the Ganga, the Gomti, the Indus, the Ravi, the Sutlej and the Yamuna. The soil is rich in silt, making the plain one of the most intensely farmed areas of the world. Even rural areas here are densely populated.\n",
            "The Indus–Ganga plains, also known as the \"Great Plains\", are large floodplains of the Indus, Ganga and the Brahmaputra river systems. They run parallel to the Himalaya mountains, from Jammu and Kashmir and Khyber Pakhtunkhwa in the west to Assam in the east and draining most of Northern and Eastern India. The plains encompass an area of 700,000 km2 (270,000 sq mi) and vary in width through their length by several hundred kilometres. The major rivers of this system are the Ganga and the Indus along with their tributaries; Beas, Yamuna, Gomti, Ravi, Chambal, Sutlej and Chenab.\n",
            "The Indus-Ganga belt is the world's most extensive expanse of uninterrupted alluvium formed by the deposition of silt by the numerous rivers. The plains are flat and mostly treeless, making it conducive for irrigation through canals. The area is also rich in ground water sources. The plains are the world's most intensely farmed areas. The main crops grown are rice and wheat that are grown in rotation. Others include maize, sugarcane and cotton. The Indo-Gangetic plains rank among the world's most densely populated areas with a total population exceeding 400 million.\n",
            "\n",
            "Fauna\n",
            "Until recent history, the open grasslands of the Indus-Ganga Plain were inhabited by several large species of animal. The open plains were home to large numbers of herbivores which included all three of the Asian rhinoceros (Indian rhinoceros, Javan rhinoceros, Sumatran rhinoceros). The open grasslands were in many ways similar to the landscape of modern Africa. Gazelle, buffalo, rhinos, elephants, lions, and hippo roamed the grasslands as they do in Africa today. Large herds of Indian elephants, gazelles, antelopes and horses lived alongside several species of wild cattle including the now-extinct aurochs. In the forested areas there were several species of wild pig, deer and muntjac. In the wetter regions close to the Ganga, there would have been large herds of water buffalo grazing on the riverbanks along with extinct species of hippopotamus.\n",
            "So many large animals would have supported a large population of predators as well. Indian wolves, dholes, striped hyenas, Asiatic cheetahs and Asiatic lions would have hunted large game on the open plains, while Bengal tigers and leopards would stalk prey in the surrounding woods and sloth bears hunt for termites in both of these areas. In the Ganges there were large concentrations of gharial, mugger crocodile and river dolphin controlling fish stocks and the occasional migrating herd crossing the river.\n",
            "\n",
            "Agriculture\n",
            "Farming on the Indus-Ganga Plain primarily consists of rice and wheat grown in crop rotation rotation. Other crops include maize, sugarcane, and cotton.\n",
            "The main source of rainfall is the southwest monsoon which is normally sufficient for general agriculture. The many rivers flowing out of the Himalayas provide water for major irrigation works.\n",
            "Due to a rapidly growing population (as well as other factors), this area is considered at high risk for water shortages in the future.\n",
            "The area constitutes the land between the Brahmaputra River and the Aravalli Range. The Ganga and other rivers such as the Yamuna, the Ghaghara and the Chambal River Chambal flow through the area.\n",
            "\n",
            "Administrative divisions\n",
            "Because it is not fully possible to define the boundaries of the Indo-Gangetic Plain, it is also difficult to give an exact list of which administrative areas are part of the plain.\n",
            "The areas that are completely or more than half in the plain are:\n",
            "\n",
            "Bangladesh (Excluding the Chittagong Hill Tracts)\n",
            "Bhutan (Only southern fringes of the country bordering India)\n",
            "India\n",
            "Arunachal Pradesh (The southern fringes bordering Assam)\n",
            "Assam (The Brahmaputra and Barak Valley)\n",
            "Bihar (Almost entirely)\n",
            "Chandigarh\n",
            "Delhi (Almost entirely)\n",
            "Haryana\n",
            "Himachal Pradesh (Una district and the southern fringes bordering Punjab and Haryana)\n",
            "Jammu and Kashmir (3 southernmost districts of the Jammu Division)\n",
            "Madhya Pradesh (Gird Region Including the Chambal division)\n",
            "Punjab\n",
            "Rajasthan (Sri Ganganagar and Hanumangarh districts)\n",
            "Uttarakhand (Terai Region encompassing Haridwar and Udham Singh Nagar districts)\n",
            "Uttar Pradesh (Excluding the Chitrakoot division)\n",
            "West Bengal (Excluding the Darjeeling Himalayan hill region)\n",
            "Nepal\n",
            "Nepalese Terai\n",
            "Pakistan\n",
            "Balochistan (Kacchi Plains)\n",
            "Punjab (Excluding Salt Range and Cholistan desert)\n",
            "Sindh (Excluding the Kirthar Range and the Thar desert)\n",
            "Khyber Pakhtunkhwa (Derajat region and the Peshawar Valley)\n",
            "\n",
            "See also\n",
            "Doab\n",
            "Aryavarta\n",
            "Ecoregions: Lower and Upper Gangetic Plains moist deciduous forests, Terai-Duar savanna and grasslands, Northwestern thorn scrub forest.\n",
            "\n",
            "References\n",
            "Bibliography\n",
            "Jadunath Sarkar (1960). Military History of India. Orient Longmans. ISBN 9780861251551.\n",
            "\n",
            "External links\n",
            "Indo-Gangetic Plain at the Encyclopædia Britannica\n"
          ],
          "name": "stdout"
        }
      ]
    },
    {
      "cell_type": "code",
      "metadata": {
        "id": "mQqAvWHZSV-x"
      },
      "source": [
        "import spacy\n",
        "from spacy import displacy\n",
        "import pandas as pd"
      ],
      "execution_count": 10,
      "outputs": []
    },
    {
      "cell_type": "code",
      "metadata": {
        "colab": {
          "base_uri": "https://localhost:8080/",
          "height": 402
        },
        "id": "w8JIZQwlSZvL",
        "outputId": "27ca51c1-9652-413e-9c80-1b6c3c1c4f68"
      },
      "source": [
        "nlp = spacy.load(\"en_core_web_sm\")\n",
        "doc = nlp(text1)\n",
        "\n",
        "entities = []\n",
        "labels = []\n",
        "position_start = []\n",
        "position_end = []\n",
        "\n",
        "for ent in doc.ents:\n",
        "    entities.append(ent)\n",
        "    labels.append(ent.label_)\n",
        "    position_start.append(ent.start_char)\n",
        "    position_end.append(ent.end_char)\n",
        "    \n",
        "df = pd.DataFrame({'Entities':entities,'Labels':labels,'Position_Start':position_start, 'Position_End':position_end})\n",
        "\n",
        "df"
      ],
      "execution_count": 11,
      "outputs": [
        {
          "output_type": "execute_result",
          "data": {
            "text/html": [
              "<div>\n",
              "<style scoped>\n",
              "    .dataframe tbody tr th:only-of-type {\n",
              "        vertical-align: middle;\n",
              "    }\n",
              "\n",
              "    .dataframe tbody tr th {\n",
              "        vertical-align: top;\n",
              "    }\n",
              "\n",
              "    .dataframe thead th {\n",
              "        text-align: right;\n",
              "    }\n",
              "</style>\n",
              "<table border=\"1\" class=\"dataframe\">\n",
              "  <thead>\n",
              "    <tr style=\"text-align: right;\">\n",
              "      <th></th>\n",
              "      <th>Entities</th>\n",
              "      <th>Labels</th>\n",
              "      <th>Position_Start</th>\n",
              "      <th>Position_End</th>\n",
              "    </tr>\n",
              "  </thead>\n",
              "  <tbody>\n",
              "    <tr>\n",
              "      <th>0</th>\n",
              "      <td>(The, Indo, -, Gangetic, Plain)</td>\n",
              "      <td>ORG</td>\n",
              "      <td>0</td>\n",
              "      <td>23</td>\n",
              "    </tr>\n",
              "    <tr>\n",
              "      <th>1</th>\n",
              "      <td>(the, North, Indian, River, Plain)</td>\n",
              "      <td>GPE</td>\n",
              "      <td>65</td>\n",
              "      <td>93</td>\n",
              "    </tr>\n",
              "    <tr>\n",
              "      <th>2</th>\n",
              "      <td>(Indian)</td>\n",
              "      <td>NORP</td>\n",
              "      <td>186</td>\n",
              "      <td>192</td>\n",
              "    </tr>\n",
              "    <tr>\n",
              "      <th>3</th>\n",
              "      <td>(India)</td>\n",
              "      <td>GPE</td>\n",
              "      <td>246</td>\n",
              "      <td>251</td>\n",
              "    </tr>\n",
              "    <tr>\n",
              "      <th>4</th>\n",
              "      <td>(Pakistan)</td>\n",
              "      <td>GPE</td>\n",
              "      <td>274</td>\n",
              "      <td>282</td>\n",
              "    </tr>\n",
              "    <tr>\n",
              "      <th>...</th>\n",
              "      <td>...</td>\n",
              "      <td>...</td>\n",
              "      <td>...</td>\n",
              "      <td>...</td>\n",
              "    </tr>\n",
              "    <tr>\n",
              "      <th>238</th>\n",
              "      <td>(India)</td>\n",
              "      <td>GPE</td>\n",
              "      <td>10686</td>\n",
              "      <td>10691</td>\n",
              "    </tr>\n",
              "    <tr>\n",
              "      <th>239</th>\n",
              "      <td>(Orient, Longmans)</td>\n",
              "      <td>ORG</td>\n",
              "      <td>10693</td>\n",
              "      <td>10708</td>\n",
              "    </tr>\n",
              "    <tr>\n",
              "      <th>240</th>\n",
              "      <td>(ISBN, 9780861251551)</td>\n",
              "      <td>LAW</td>\n",
              "      <td>10710</td>\n",
              "      <td>10728</td>\n",
              "    </tr>\n",
              "    <tr>\n",
              "      <th>241</th>\n",
              "      <td>(External)</td>\n",
              "      <td>ORG</td>\n",
              "      <td>10731</td>\n",
              "      <td>10739</td>\n",
              "    </tr>\n",
              "    <tr>\n",
              "      <th>242</th>\n",
              "      <td>(the, Encyclopædia, Britannica)</td>\n",
              "      <td>FAC</td>\n",
              "      <td>10769</td>\n",
              "      <td>10796</td>\n",
              "    </tr>\n",
              "  </tbody>\n",
              "</table>\n",
              "<p>243 rows × 4 columns</p>\n",
              "</div>"
            ],
            "text/plain": [
              "                               Entities Labels  Position_Start  Position_End\n",
              "0       (The, Indo, -, Gangetic, Plain)    ORG               0            23\n",
              "1    (the, North, Indian, River, Plain)    GPE              65            93\n",
              "2                              (Indian)   NORP             186           192\n",
              "3                               (India)    GPE             246           251\n",
              "4                            (Pakistan)    GPE             274           282\n",
              "..                                  ...    ...             ...           ...\n",
              "238                             (India)    GPE           10686         10691\n",
              "239                  (Orient, Longmans)    ORG           10693         10708\n",
              "240               (ISBN, 9780861251551)    LAW           10710         10728\n",
              "241                          (External)    ORG           10731         10739\n",
              "242     (the, Encyclopædia, Britannica)    FAC           10769         10796\n",
              "\n",
              "[243 rows x 4 columns]"
            ]
          },
          "metadata": {
            "tags": []
          },
          "execution_count": 11
        }
      ]
    },
    {
      "cell_type": "code",
      "metadata": {
        "colab": {
          "base_uri": "https://localhost:8080/",
          "height": 35
        },
        "id": "rSEczAXqSjLw",
        "outputId": "918bb8ea-8c86-45a6-ec49-1bdbd9be50f9"
      },
      "source": [
        "spacy.explain(\"GPE\")"
      ],
      "execution_count": 12,
      "outputs": [
        {
          "output_type": "execute_result",
          "data": {
            "application/vnd.google.colaboratory.intrinsic+json": {
              "type": "string"
            },
            "text/plain": [
              "'Countries, cities, states'"
            ]
          },
          "metadata": {
            "tags": []
          },
          "execution_count": 12
        }
      ]
    },
    {
      "cell_type": "code",
      "metadata": {
        "colab": {
          "base_uri": "https://localhost:8080/",
          "height": 35
        },
        "id": "XZ1eCwkySm9s",
        "outputId": "1e8899ca-36c8-4314-aac4-f284f1a1472e"
      },
      "source": [
        "spacy.explain(\"ORG\")"
      ],
      "execution_count": 13,
      "outputs": [
        {
          "output_type": "execute_result",
          "data": {
            "application/vnd.google.colaboratory.intrinsic+json": {
              "type": "string"
            },
            "text/plain": [
              "'Companies, agencies, institutions, etc.'"
            ]
          },
          "metadata": {
            "tags": []
          },
          "execution_count": 13
        }
      ]
    },
    {
      "cell_type": "code",
      "metadata": {
        "id": "SXGvEIYSSpC4"
      },
      "source": [
        ""
      ],
      "execution_count": null,
      "outputs": []
    }
  ]
}